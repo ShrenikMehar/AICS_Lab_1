{
  "nbformat": 4,
  "nbformat_minor": 0,
  "metadata": {
    "colab": {
      "name": "code.ipynb",
      "provenance": [],
      "authorship_tag": "ABX9TyMv/4yHhZpeFj8JkXui5NZq",
      "include_colab_link": true
    },
    "kernelspec": {
      "name": "python3",
      "display_name": "Python 3"
    },
    "language_info": {
      "name": "python"
    }
  },
  "cells": [
    {
      "cell_type": "markdown",
      "metadata": {
        "id": "view-in-github",
        "colab_type": "text"
      },
      "source": [
        "<a href=\"https://colab.research.google.com/github/ShrenikMehar/AICS_Lab_1/blob/main/AICS/GithubXCollab.ipynb\" target=\"_parent\"><img src=\"https://colab.research.google.com/assets/colab-badge.svg\" alt=\"Open In Colab\"/></a>"
      ]
    },
    {
      "cell_type": "code",
      "execution_count": 20,
      "metadata": {
        "colab": {
          "base_uri": "https://localhost:8080/"
        },
        "id": "uerjbnCtMciJ",
        "outputId": "b7f70aa1-4598-45cd-e7a1-ffb897020306"
      },
      "outputs": [
        {
          "output_type": "stream",
          "name": "stdout",
          "text": [
            "hello\n",
            "\n",
            "Here are some operations on list\n",
            "Normal List [12, 45, 23, 77, 88, 69]\n",
            "Sorted List None\n",
            "Reversed Sorted List [88, 77, 69, 45, 23, 12]\n",
            "\n",
            "Here are some operations on dictionary\n",
            "Dictionary Elements {'Open': 'No seats', 'OBC': 'High Cutoff', 'SC/ST': 'Just Give exams'}\n",
            "Dictionary Keys ['Open', 'OBC', 'SC/ST']\n",
            "Dictionary Values ['No seats', 'High Cutoff', 'Just Give exams']\n",
            "\n",
            "Here are some operations on tuple\n",
            "Tuple Elements ('Noice', [6, 9], (4, 2, 0))\n",
            "Access Elements Indivitually Noice[6, 9](4, 2, 0)\n",
            "Nested Element Accessing 0\n"
          ]
        }
      ],
      "source": [
        "print(\"hello\\n\")\n",
        "print(\"Here are some operations on list\")\n",
        "\n",
        "ls=[12,45,23,77,88,69]\n",
        "print(\"Normal List\",ls)\n",
        "ls.sort()\n",
        "print(\"Sorted List\",ls.sort())\n",
        "ls.sort(reverse=True)\n",
        "print(\"Reversed Sorted List\",ls)\n",
        "print()\n",
        "\n",
        "print(\"Here are some operations on dictionary\")\n",
        "my_dict = {'Open': 'No seats', 'OBC': 'High Cutoff', 'SC/ST': 'Just Give exams'}\n",
        "print(\"Dictionary Elements\",my_dict)\n",
        "print(\"Dictionary Keys\",list(my_dict.keys()))\n",
        "print(\"Dictionary Values\",list(my_dict.values()))\n",
        "print()\n",
        "\n",
        "print(\"Here are some operations on tuple\")\n",
        "my_tuple = (\"Noice\", [6, 9], (4, 2, 0))\n",
        "print(\"Tuple Elements\",my_tuple)\n",
        "print(\"Access Elements Indivitually \"+str(my_tuple[0])+str(my_tuple[1])+str(my_tuple[2]))\n",
        "print(\"Nested Element Accessing \"+str(my_tuple[2][2]))\n"
      ]
    },
    {
      "cell_type": "code",
      "source": [],
      "metadata": {
        "id": "0qqeMxoKa0sU"
      },
      "execution_count": null,
      "outputs": []
    }
  ]
}