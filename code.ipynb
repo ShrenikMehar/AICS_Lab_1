{
  "nbformat": 4,
  "nbformat_minor": 0,
  "metadata": {
    "colab": {
      "name": "code.ipynb",
      "provenance": [],
      "authorship_tag": "ABX9TyOggmZ7WHmnlW6Nl8Ng1Y3J",
      "include_colab_link": true
    },
    "kernelspec": {
      "name": "python3",
      "display_name": "Python 3"
    },
    "language_info": {
      "name": "python"
    }
  },
  "cells": [
    {
      "cell_type": "markdown",
      "metadata": {
        "id": "view-in-github",
        "colab_type": "text"
      },
      "source": [
        "<a href=\"https://colab.research.google.com/github/ShrenikMehar/AICS_Lab_1/blob/main/code.ipynb\" target=\"_parent\"><img src=\"https://colab.research.google.com/assets/colab-badge.svg\" alt=\"Open In Colab\"/></a>"
      ]
    },
    {
      "cell_type": "code",
      "execution_count": null,
      "metadata": {
        "colab": {
          "base_uri": "https://localhost:8080/"
        },
        "id": "uerjbnCtMciJ",
        "outputId": "b0a42bbe-406a-409c-af2b-f6128281bbd9"
      },
      "outputs": [
        {
          "output_type": "stream",
          "name": "stdout",
          "text": [
            "hello\n",
            "\n",
            "[12, 23, 45, 69, 77, 88]\n",
            "\n",
            "first\n",
            "second\n",
            "\n",
            "6\n"
          ]
        }
      ],
      "source": [
        "print(\"hello\\n\")\n",
        "\n",
        "ls=[12,45,23,77,88,69]\n",
        "ls.sort()\n",
        "print(ls)\n",
        "print()\n",
        "\n",
        "my_dict = {1: 'first', 2: 'second'}\n",
        "for i in my_dict:\n",
        "  print(my_dict[i])\n",
        "print()\n",
        "\n",
        "my_tuple = (\"mouse\", [8, 4, 6], (1, 2, 3))\n",
        "print(my_tuple[1][2])\n",
        "\n",
        "yes"
      ]
    }
  ]
}