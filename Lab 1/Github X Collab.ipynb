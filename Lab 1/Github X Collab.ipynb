{
  "nbformat": 4,
  "nbformat_minor": 0,
  "metadata": {
    "colab": {
      "name": "Github X Collab.ipynb",
      "provenance": [],
      "authorship_tag": "ABX9TyOejH6Vpb5M/EjNFEFnJ/S5",
      "include_colab_link": true
    },
    "kernelspec": {
      "name": "python3",
      "display_name": "Python 3"
    },
    "language_info": {
      "name": "python"
    }
  },
  "cells": [
    {
      "cell_type": "markdown",
      "metadata": {
        "id": "view-in-github",
        "colab_type": "text"
      },
      "source": [
        "<a href=\"https://colab.research.google.com/github/ShrenikMehar/AICS_Labs/blob/main/Lab%201/Github%20X%20Collab.ipynb\" target=\"_parent\"><img src=\"https://colab.research.google.com/assets/colab-badge.svg\" alt=\"Open In Colab\"/></a>"
      ]
    },
    {
      "cell_type": "code",
      "execution_count": 1,
      "metadata": {
        "colab": {
          "base_uri": "https://localhost:8080/"
        },
        "id": "uerjbnCtMciJ",
        "outputId": "368984ba-4468-4d30-c273-37ee21f6e730"
      },
      "outputs": [
        {
          "output_type": "stream",
          "name": "stdout",
          "text": [
            "hello\n",
            "These are some basic operations on list, dictionary and tuple\n",
            "Main goal is to establish connection between github & collab\n"
          ]
        }
      ],
      "source": [
        "print(\"hello\")\n",
        "print(\"These are some basic operations on list, dictionary and tuple\")\n",
        "print(\"Main goal is to establish connection between github & collab\")"
      ]
    },
    {
      "cell_type": "code",
      "source": [
        "print(\"Here are some operations on list\")\n",
        "ls=[12,45,23,77,88,69]\n",
        "print(\"Normal List\",ls)\n",
        "ls.sort()\n",
        "print(\"Sorted List\",ls.sort())\n",
        "ls.sort(reverse=True)\n",
        "print(\"Reversed Sorted List\",ls)\n",
        "print()"
      ],
      "metadata": {
        "id": "0qqeMxoKa0sU",
        "colab": {
          "base_uri": "https://localhost:8080/"
        },
        "outputId": "f7e66ce1-9f28-4fcd-9aeb-3030e7904669"
      },
      "execution_count": 2,
      "outputs": [
        {
          "output_type": "stream",
          "name": "stdout",
          "text": [
            "Here are some operations on list\n",
            "Normal List [12, 45, 23, 77, 88, 69]\n",
            "Sorted List None\n",
            "Reversed Sorted List [88, 77, 69, 45, 23, 12]\n",
            "\n"
          ]
        }
      ]
    },
    {
      "cell_type": "code",
      "source": [
        "print(\"Here are some operations on dictionary\")\n",
        "my_dict = {'Open': 'No seats', 'OBC': 'High Cutoff', 'SC/ST': 'Just Give exams'}\n",
        "print(\"Dictionary Elements\",my_dict)\n",
        "print(\"Dictionary Keys\",list(my_dict.keys()))\n",
        "print(\"Dictionary Values\",list(my_dict.values()))\n",
        "print()"
      ],
      "metadata": {
        "colab": {
          "base_uri": "https://localhost:8080/"
        },
        "id": "8ZFNPYIZyaee",
        "outputId": "50809291-6bf2-4074-baf1-c566d8647464"
      },
      "execution_count": 3,
      "outputs": [
        {
          "output_type": "stream",
          "name": "stdout",
          "text": [
            "Here are some operations on dictionary\n",
            "Dictionary Elements {'Open': 'No seats', 'OBC': 'High Cutoff', 'SC/ST': 'Just Give exams'}\n",
            "Dictionary Keys ['Open', 'OBC', 'SC/ST']\n",
            "Dictionary Values ['No seats', 'High Cutoff', 'Just Give exams']\n",
            "\n"
          ]
        }
      ]
    },
    {
      "cell_type": "code",
      "source": [
        "print(\"Here are some operations on tuple\")\n",
        "my_tuple = (\"Noice\", [6, 9], (4, 2, 0))\n",
        "print(\"Tuple Elements\",my_tuple)\n",
        "print(\"Access Elements Indivitually \"+str(my_tuple[0])+str(my_tuple[1])+str(my_tuple[2]))\n",
        "print(\"Nested Element Accessing \"+str(my_tuple[2][2]))"
      ],
      "metadata": {
        "colab": {
          "base_uri": "https://localhost:8080/"
        },
        "id": "xU3aM7--yegH",
        "outputId": "618f866f-40f7-474b-e5bc-88ea3684d3de"
      },
      "execution_count": 4,
      "outputs": [
        {
          "output_type": "stream",
          "name": "stdout",
          "text": [
            "Here are some operations on tuple\n",
            "Tuple Elements ('Noice', [6, 9], (4, 2, 0))\n",
            "Access Elements Indivitually Noice[6, 9](4, 2, 0)\n",
            "Nested Element Accessing 0\n"
          ]
        }
      ]
    }
  ]
}