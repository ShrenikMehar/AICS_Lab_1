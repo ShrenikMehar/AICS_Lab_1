{
  "nbformat": 4,
  "nbformat_minor": 0,
  "metadata": {
    "colab": {
      "name": "Github X Collab.ipynb",
      "provenance": [],
      "authorship_tag": "ABX9TyOSUkcEjQSfY0tduxwbswEt",
      "include_colab_link": true
    },
    "kernelspec": {
      "name": "python3",
      "display_name": "Python 3"
    },
    "language_info": {
      "name": "python"
    }
  },
  "cells": [
    {
      "cell_type": "markdown",
      "metadata": {
        "id": "view-in-github",
        "colab_type": "text"
      },
      "source": [
        "<a href=\"https://colab.research.google.com/github/ShrenikMehar/AICS_Labs/blob/main/Lab%201/Github%20X%20Collab.ipynb\" target=\"_parent\"><img src=\"https://colab.research.google.com/assets/colab-badge.svg\" alt=\"Open In Colab\"/></a>"
      ]
    },
    {
      "cell_type": "code",
      "execution_count": 1,
      "metadata": {
        "colab": {
          "base_uri": "https://localhost:8080/",
          "height": 0
        },
        "id": "uerjbnCtMciJ",
        "outputId": "4bcec2c6-5ed3-402b-acee-32961bbcbb96"
      },
      "outputs": [
        {
          "output_type": "stream",
          "name": "stdout",
          "text": [
            "hello\n",
            "These are some basic operations on list, dictionary and tuple\n",
            "Main goal is to establish connection between github & collab\n"
          ]
        }
      ],
      "source": [
        "print(\"hello\")\n",
        "print(\"These are some basic operations on list, dictionary and tuple\")\n",
        "print(\"Main goal is to establish connection between github & collab\")"
      ]
    },
    {
      "cell_type": "code",
      "source": [
        "print(\"Here are some operations on list\")\n",
        "ls=[12,45,23,77,88,69]\n",
        "print(\"Normal List\",ls)\n",
        "ls.sort()\n",
        "print(\"Sorted List\",ls.sort())\n",
        "ls.sort(reverse=True)\n",
        "print(\"Reversed Sorted List\",ls)\n",
        "print()"
      ],
      "metadata": {
        "id": "0qqeMxoKa0sU",
        "colab": {
          "base_uri": "https://localhost:8080/",
          "height": 0
        },
        "outputId": "c9134978-02fa-4bce-9932-7e95d12de2f2"
      },
      "execution_count": 2,
      "outputs": [
        {
          "output_type": "stream",
          "name": "stdout",
          "text": [
            "Here are some operations on list\n",
            "Normal List [12, 45, 23, 77, 88, 69]\n",
            "Sorted List None\n",
            "Reversed Sorted List [88, 77, 69, 45, 23, 12]\n",
            "\n"
          ]
        }
      ]
    },
    {
      "cell_type": "code",
      "source": [
        "print(\"Here are some operations on cutoff dictionary\")\n",
        "my_dict = {'Open': 500, 'OBC': 1000, 'SC/ST': 10000}\n",
        "print(\"Dictionary Elements\",my_dict)\n",
        "print(\"Dictionary Keys\",list(my_dict.keys()))\n",
        "print(\"Dictionary Values\",list(my_dict.values()))\n",
        "print()"
      ],
      "metadata": {
        "colab": {
          "base_uri": "https://localhost:8080/",
          "height": 0
        },
        "id": "8ZFNPYIZyaee",
        "outputId": "868a7d0e-e0d3-4458-ab13-1159e5e66c68"
      },
      "execution_count": 3,
      "outputs": [
        {
          "output_type": "stream",
          "name": "stdout",
          "text": [
            "Here are some operations on cutoff dictionary\n",
            "Dictionary Elements {'Open': 500, 'OBC': 1000, 'SC/ST': 10000}\n",
            "Dictionary Keys ['Open', 'OBC', 'SC/ST']\n",
            "Dictionary Values [500, 1000, 10000]\n",
            "\n"
          ]
        }
      ]
    },
    {
      "cell_type": "code",
      "source": [
        "print(\"Here are some operations on tuple\")\n",
        "my_tuple = (\"Noice\", [6, 9], (4, 2, 0))\n",
        "print(\"Tuple Elements\",my_tuple)\n",
        "print(\"Access Elements Indivitually\",my_tuple[0],my_tuple[1],my_tuple[2])\n",
        "print(\"Nested Element Accessing\",my_tuple[2][2])"
      ],
      "metadata": {
        "colab": {
          "base_uri": "https://localhost:8080/",
          "height": 0
        },
        "id": "xU3aM7--yegH",
        "outputId": "9465609b-1234-49dd-9f3b-3b82a299ba33"
      },
      "execution_count": 4,
      "outputs": [
        {
          "output_type": "stream",
          "name": "stdout",
          "text": [
            "Here are some operations on tuple\n",
            "Tuple Elements ('Noice', [6, 9], (4, 2, 0))\n",
            "Access Elements Indivitually Noice [6, 9] (4, 2, 0)\n",
            "Nested Element Accessing 0\n"
          ]
        }
      ]
    }
  ]
}